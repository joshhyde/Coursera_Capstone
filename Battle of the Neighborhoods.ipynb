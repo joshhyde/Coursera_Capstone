{
 "nbformat": 4,
 "nbformat_minor": 2,
 "metadata": {
  "language_info": {
   "name": "python",
   "codemirror_mode": {
    "name": "ipython",
    "version": 3
   }
  },
  "orig_nbformat": 2,
  "file_extension": ".py",
  "mimetype": "text/x-python",
  "name": "python",
  "npconvert_exporter": "python",
  "pygments_lexer": "ipython3",
  "version": 3
 },
 "cells": [
  {
   "cell_type": "markdown",
   "metadata": {},
   "source": [
    "# Battle of the Neighborhoods"
   ]
  },
  {
   "cell_type": "markdown",
   "metadata": {},
   "source": [
    "## Introduction\n",
    "\n",
    "New York City, now the epicenter of the novel coronavirus pandemic, is looking for locations to set up locations to take in patients with symptoms of COVID-19. The task at hand is to find optimum new locations in all of the five boroughs: Bronx, Brooklyn, Manhattan, Queens, and Staten Island. Population and population density will be considered for ranking purposes."
   ]
  },
  {
   "cell_type": "markdown",
   "metadata": {},
   "source": [
    "## Data\n",
    "\n",
    "The Foursquare API will be used to locate existing hospitals to identify new areas where additional medical facilities could be set up to help mitigate the inflow of new patients arriving at existing hospitals. Data from the NYC Open Data website will also be used for geospatial and population data. Data will have neighborhood names, borough names, population, and latitude and longitude coordinates of neighborhoods and hospitals."
   ]
  },
  {
   "cell_type": "code",
   "execution_count": null,
   "metadata": {},
   "outputs": [],
   "source": []
  }
 ]
}